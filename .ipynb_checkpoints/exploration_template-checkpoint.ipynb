{
 "cells": [
  {
   "cell_type": "markdown",
   "id": "73aedb05",
   "metadata": {},
   "source": [
    "### Ford GoBike System Data"
   ]
  },
  {
   "cell_type": "markdown",
   "id": "413570fc",
   "metadata": {},
   "source": [
    "#### Preliminary Wrangling"
   ]
  },
  {
   "cell_type": "markdown",
   "id": "befea877",
   "metadata": {},
   "source": [
    "this document explore the datasets contain information about 183412 riders "
   ]
  },
  {
   "cell_type": "code",
   "execution_count": 2,
   "id": "1be4aae2",
   "metadata": {},
   "outputs": [],
   "source": [
    "#Import all packages and set plot to embedded inline\n",
    "import numpy as np\n",
    "import pandas as pd\n",
    "import matplotlib.pyplot as plt\n",
    "import seaborn as sb\n",
    "\n",
    "%matplotlib inline"
   ]
  },
  {
   "cell_type": "code",
   "execution_count": 3,
   "id": "c0d5741a",
   "metadata": {},
   "outputs": [],
   "source": [
    "gobike=pd.read_csv('./data/fordgobike-tripdata.csv')"
   ]
  },
  {
   "cell_type": "markdown",
   "id": "f2b9302d",
   "metadata": {},
   "source": [
    "## 1-Gather"
   ]
  },
  {
   "cell_type": "code",
   "execution_count": 4,
   "id": "c4d3cdd7",
   "metadata": {},
   "outputs": [
    {
     "data": {
      "text/html": [
       "<div>\n",
       "<style scoped>\n",
       "    .dataframe tbody tr th:only-of-type {\n",
       "        vertical-align: middle;\n",
       "    }\n",
       "\n",
       "    .dataframe tbody tr th {\n",
       "        vertical-align: top;\n",
       "    }\n",
       "\n",
       "    .dataframe thead th {\n",
       "        text-align: right;\n",
       "    }\n",
       "</style>\n",
       "<table border=\"1\" class=\"dataframe\">\n",
       "  <thead>\n",
       "    <tr style=\"text-align: right;\">\n",
       "      <th></th>\n",
       "      <th>duration_sec</th>\n",
       "      <th>start_time</th>\n",
       "      <th>end_time</th>\n",
       "      <th>start_station_id</th>\n",
       "      <th>start_station_name</th>\n",
       "      <th>start_station_latitude</th>\n",
       "      <th>start_station_longitude</th>\n",
       "      <th>end_station_id</th>\n",
       "      <th>end_station_name</th>\n",
       "      <th>end_station_latitude</th>\n",
       "      <th>end_station_longitude</th>\n",
       "      <th>bike_id</th>\n",
       "      <th>user_type</th>\n",
       "      <th>member_birth_year</th>\n",
       "      <th>member_gender</th>\n",
       "      <th>bike_share_for_all_trip</th>\n",
       "    </tr>\n",
       "  </thead>\n",
       "  <tbody>\n",
       "    <tr>\n",
       "      <th>0</th>\n",
       "      <td>52185</td>\n",
       "      <td>2019-02-28 17:32:10.1450</td>\n",
       "      <td>2019-03-01 08:01:55.9750</td>\n",
       "      <td>21.0</td>\n",
       "      <td>Montgomery St BART Station (Market St at 2nd St)</td>\n",
       "      <td>37.789625</td>\n",
       "      <td>-122.400811</td>\n",
       "      <td>13.0</td>\n",
       "      <td>Commercial St at Montgomery St</td>\n",
       "      <td>37.794231</td>\n",
       "      <td>-122.402923</td>\n",
       "      <td>4902</td>\n",
       "      <td>Customer</td>\n",
       "      <td>1984.0</td>\n",
       "      <td>Male</td>\n",
       "      <td>No</td>\n",
       "    </tr>\n",
       "    <tr>\n",
       "      <th>1</th>\n",
       "      <td>42521</td>\n",
       "      <td>2019-02-28 18:53:21.7890</td>\n",
       "      <td>2019-03-01 06:42:03.0560</td>\n",
       "      <td>23.0</td>\n",
       "      <td>The Embarcadero at Steuart St</td>\n",
       "      <td>37.791464</td>\n",
       "      <td>-122.391034</td>\n",
       "      <td>81.0</td>\n",
       "      <td>Berry St at 4th St</td>\n",
       "      <td>37.775880</td>\n",
       "      <td>-122.393170</td>\n",
       "      <td>2535</td>\n",
       "      <td>Customer</td>\n",
       "      <td>NaN</td>\n",
       "      <td>NaN</td>\n",
       "      <td>No</td>\n",
       "    </tr>\n",
       "    <tr>\n",
       "      <th>2</th>\n",
       "      <td>61854</td>\n",
       "      <td>2019-02-28 12:13:13.2180</td>\n",
       "      <td>2019-03-01 05:24:08.1460</td>\n",
       "      <td>86.0</td>\n",
       "      <td>Market St at Dolores St</td>\n",
       "      <td>37.769305</td>\n",
       "      <td>-122.426826</td>\n",
       "      <td>3.0</td>\n",
       "      <td>Powell St BART Station (Market St at 4th St)</td>\n",
       "      <td>37.786375</td>\n",
       "      <td>-122.404904</td>\n",
       "      <td>5905</td>\n",
       "      <td>Customer</td>\n",
       "      <td>1972.0</td>\n",
       "      <td>Male</td>\n",
       "      <td>No</td>\n",
       "    </tr>\n",
       "    <tr>\n",
       "      <th>3</th>\n",
       "      <td>36490</td>\n",
       "      <td>2019-02-28 17:54:26.0100</td>\n",
       "      <td>2019-03-01 04:02:36.8420</td>\n",
       "      <td>375.0</td>\n",
       "      <td>Grove St at Masonic Ave</td>\n",
       "      <td>37.774836</td>\n",
       "      <td>-122.446546</td>\n",
       "      <td>70.0</td>\n",
       "      <td>Central Ave at Fell St</td>\n",
       "      <td>37.773311</td>\n",
       "      <td>-122.444293</td>\n",
       "      <td>6638</td>\n",
       "      <td>Subscriber</td>\n",
       "      <td>1989.0</td>\n",
       "      <td>Other</td>\n",
       "      <td>No</td>\n",
       "    </tr>\n",
       "    <tr>\n",
       "      <th>4</th>\n",
       "      <td>1585</td>\n",
       "      <td>2019-02-28 23:54:18.5490</td>\n",
       "      <td>2019-03-01 00:20:44.0740</td>\n",
       "      <td>7.0</td>\n",
       "      <td>Frank H Ogawa Plaza</td>\n",
       "      <td>37.804562</td>\n",
       "      <td>-122.271738</td>\n",
       "      <td>222.0</td>\n",
       "      <td>10th Ave at E 15th St</td>\n",
       "      <td>37.792714</td>\n",
       "      <td>-122.248780</td>\n",
       "      <td>4898</td>\n",
       "      <td>Subscriber</td>\n",
       "      <td>1974.0</td>\n",
       "      <td>Male</td>\n",
       "      <td>Yes</td>\n",
       "    </tr>\n",
       "    <tr>\n",
       "      <th>...</th>\n",
       "      <td>...</td>\n",
       "      <td>...</td>\n",
       "      <td>...</td>\n",
       "      <td>...</td>\n",
       "      <td>...</td>\n",
       "      <td>...</td>\n",
       "      <td>...</td>\n",
       "      <td>...</td>\n",
       "      <td>...</td>\n",
       "      <td>...</td>\n",
       "      <td>...</td>\n",
       "      <td>...</td>\n",
       "      <td>...</td>\n",
       "      <td>...</td>\n",
       "      <td>...</td>\n",
       "      <td>...</td>\n",
       "    </tr>\n",
       "    <tr>\n",
       "      <th>183407</th>\n",
       "      <td>480</td>\n",
       "      <td>2019-02-01 00:04:49.7240</td>\n",
       "      <td>2019-02-01 00:12:50.0340</td>\n",
       "      <td>27.0</td>\n",
       "      <td>Beale St at Harrison St</td>\n",
       "      <td>37.788059</td>\n",
       "      <td>-122.391865</td>\n",
       "      <td>324.0</td>\n",
       "      <td>Union Square (Powell St at Post St)</td>\n",
       "      <td>37.788300</td>\n",
       "      <td>-122.408531</td>\n",
       "      <td>4832</td>\n",
       "      <td>Subscriber</td>\n",
       "      <td>1996.0</td>\n",
       "      <td>Male</td>\n",
       "      <td>No</td>\n",
       "    </tr>\n",
       "    <tr>\n",
       "      <th>183408</th>\n",
       "      <td>313</td>\n",
       "      <td>2019-02-01 00:05:34.7440</td>\n",
       "      <td>2019-02-01 00:10:48.5020</td>\n",
       "      <td>21.0</td>\n",
       "      <td>Montgomery St BART Station (Market St at 2nd St)</td>\n",
       "      <td>37.789625</td>\n",
       "      <td>-122.400811</td>\n",
       "      <td>66.0</td>\n",
       "      <td>3rd St at Townsend St</td>\n",
       "      <td>37.778742</td>\n",
       "      <td>-122.392741</td>\n",
       "      <td>4960</td>\n",
       "      <td>Subscriber</td>\n",
       "      <td>1984.0</td>\n",
       "      <td>Male</td>\n",
       "      <td>No</td>\n",
       "    </tr>\n",
       "    <tr>\n",
       "      <th>183409</th>\n",
       "      <td>141</td>\n",
       "      <td>2019-02-01 00:06:05.5490</td>\n",
       "      <td>2019-02-01 00:08:27.2200</td>\n",
       "      <td>278.0</td>\n",
       "      <td>The Alameda at Bush St</td>\n",
       "      <td>37.331932</td>\n",
       "      <td>-121.904888</td>\n",
       "      <td>277.0</td>\n",
       "      <td>Morrison Ave at Julian St</td>\n",
       "      <td>37.333658</td>\n",
       "      <td>-121.908586</td>\n",
       "      <td>3824</td>\n",
       "      <td>Subscriber</td>\n",
       "      <td>1990.0</td>\n",
       "      <td>Male</td>\n",
       "      <td>Yes</td>\n",
       "    </tr>\n",
       "    <tr>\n",
       "      <th>183410</th>\n",
       "      <td>139</td>\n",
       "      <td>2019-02-01 00:05:34.3600</td>\n",
       "      <td>2019-02-01 00:07:54.2870</td>\n",
       "      <td>220.0</td>\n",
       "      <td>San Pablo Ave at MLK Jr Way</td>\n",
       "      <td>37.811351</td>\n",
       "      <td>-122.273422</td>\n",
       "      <td>216.0</td>\n",
       "      <td>San Pablo Ave at 27th St</td>\n",
       "      <td>37.817827</td>\n",
       "      <td>-122.275698</td>\n",
       "      <td>5095</td>\n",
       "      <td>Subscriber</td>\n",
       "      <td>1988.0</td>\n",
       "      <td>Male</td>\n",
       "      <td>No</td>\n",
       "    </tr>\n",
       "    <tr>\n",
       "      <th>183411</th>\n",
       "      <td>271</td>\n",
       "      <td>2019-02-01 00:00:20.6360</td>\n",
       "      <td>2019-02-01 00:04:52.0580</td>\n",
       "      <td>24.0</td>\n",
       "      <td>Spear St at Folsom St</td>\n",
       "      <td>37.789677</td>\n",
       "      <td>-122.390428</td>\n",
       "      <td>37.0</td>\n",
       "      <td>2nd St at Folsom St</td>\n",
       "      <td>37.785000</td>\n",
       "      <td>-122.395936</td>\n",
       "      <td>1057</td>\n",
       "      <td>Subscriber</td>\n",
       "      <td>1989.0</td>\n",
       "      <td>Male</td>\n",
       "      <td>No</td>\n",
       "    </tr>\n",
       "  </tbody>\n",
       "</table>\n",
       "<p>183412 rows × 16 columns</p>\n",
       "</div>"
      ],
      "text/plain": [
       "        duration_sec                start_time                  end_time  \\\n",
       "0              52185  2019-02-28 17:32:10.1450  2019-03-01 08:01:55.9750   \n",
       "1              42521  2019-02-28 18:53:21.7890  2019-03-01 06:42:03.0560   \n",
       "2              61854  2019-02-28 12:13:13.2180  2019-03-01 05:24:08.1460   \n",
       "3              36490  2019-02-28 17:54:26.0100  2019-03-01 04:02:36.8420   \n",
       "4               1585  2019-02-28 23:54:18.5490  2019-03-01 00:20:44.0740   \n",
       "...              ...                       ...                       ...   \n",
       "183407           480  2019-02-01 00:04:49.7240  2019-02-01 00:12:50.0340   \n",
       "183408           313  2019-02-01 00:05:34.7440  2019-02-01 00:10:48.5020   \n",
       "183409           141  2019-02-01 00:06:05.5490  2019-02-01 00:08:27.2200   \n",
       "183410           139  2019-02-01 00:05:34.3600  2019-02-01 00:07:54.2870   \n",
       "183411           271  2019-02-01 00:00:20.6360  2019-02-01 00:04:52.0580   \n",
       "\n",
       "        start_station_id                                start_station_name  \\\n",
       "0                   21.0  Montgomery St BART Station (Market St at 2nd St)   \n",
       "1                   23.0                     The Embarcadero at Steuart St   \n",
       "2                   86.0                           Market St at Dolores St   \n",
       "3                  375.0                           Grove St at Masonic Ave   \n",
       "4                    7.0                               Frank H Ogawa Plaza   \n",
       "...                  ...                                               ...   \n",
       "183407              27.0                           Beale St at Harrison St   \n",
       "183408              21.0  Montgomery St BART Station (Market St at 2nd St)   \n",
       "183409             278.0                            The Alameda at Bush St   \n",
       "183410             220.0                       San Pablo Ave at MLK Jr Way   \n",
       "183411              24.0                             Spear St at Folsom St   \n",
       "\n",
       "        start_station_latitude  start_station_longitude  end_station_id  \\\n",
       "0                    37.789625              -122.400811            13.0   \n",
       "1                    37.791464              -122.391034            81.0   \n",
       "2                    37.769305              -122.426826             3.0   \n",
       "3                    37.774836              -122.446546            70.0   \n",
       "4                    37.804562              -122.271738           222.0   \n",
       "...                        ...                      ...             ...   \n",
       "183407               37.788059              -122.391865           324.0   \n",
       "183408               37.789625              -122.400811            66.0   \n",
       "183409               37.331932              -121.904888           277.0   \n",
       "183410               37.811351              -122.273422           216.0   \n",
       "183411               37.789677              -122.390428            37.0   \n",
       "\n",
       "                                    end_station_name  end_station_latitude  \\\n",
       "0                     Commercial St at Montgomery St             37.794231   \n",
       "1                                 Berry St at 4th St             37.775880   \n",
       "2       Powell St BART Station (Market St at 4th St)             37.786375   \n",
       "3                             Central Ave at Fell St             37.773311   \n",
       "4                              10th Ave at E 15th St             37.792714   \n",
       "...                                              ...                   ...   \n",
       "183407           Union Square (Powell St at Post St)             37.788300   \n",
       "183408                         3rd St at Townsend St             37.778742   \n",
       "183409                     Morrison Ave at Julian St             37.333658   \n",
       "183410                      San Pablo Ave at 27th St             37.817827   \n",
       "183411                           2nd St at Folsom St             37.785000   \n",
       "\n",
       "        end_station_longitude  bike_id   user_type  member_birth_year  \\\n",
       "0                 -122.402923     4902    Customer             1984.0   \n",
       "1                 -122.393170     2535    Customer                NaN   \n",
       "2                 -122.404904     5905    Customer             1972.0   \n",
       "3                 -122.444293     6638  Subscriber             1989.0   \n",
       "4                 -122.248780     4898  Subscriber             1974.0   \n",
       "...                       ...      ...         ...                ...   \n",
       "183407            -122.408531     4832  Subscriber             1996.0   \n",
       "183408            -122.392741     4960  Subscriber             1984.0   \n",
       "183409            -121.908586     3824  Subscriber             1990.0   \n",
       "183410            -122.275698     5095  Subscriber             1988.0   \n",
       "183411            -122.395936     1057  Subscriber             1989.0   \n",
       "\n",
       "       member_gender bike_share_for_all_trip  \n",
       "0               Male                      No  \n",
       "1                NaN                      No  \n",
       "2               Male                      No  \n",
       "3              Other                      No  \n",
       "4               Male                     Yes  \n",
       "...              ...                     ...  \n",
       "183407          Male                      No  \n",
       "183408          Male                      No  \n",
       "183409          Male                     Yes  \n",
       "183410          Male                      No  \n",
       "183411          Male                      No  \n",
       "\n",
       "[183412 rows x 16 columns]"
      ]
     },
     "execution_count": 4,
     "metadata": {},
     "output_type": "execute_result"
    }
   ],
   "source": [
    "gobike"
   ]
  },
  {
   "cell_type": "markdown",
   "id": "e523e67f",
   "metadata": {},
   "source": [
    "### 2-Assess"
   ]
  },
  {
   "cell_type": "code",
   "execution_count": 6,
   "id": "8bb31700",
   "metadata": {},
   "outputs": [
    {
     "data": {
      "text/plain": [
       "(183412, 16)"
      ]
     },
     "execution_count": 6,
     "metadata": {},
     "output_type": "execute_result"
    }
   ],
   "source": [
    "gobike.shape"
   ]
  },
  {
   "cell_type": "code",
   "execution_count": 7,
   "id": "500c0d13",
   "metadata": {},
   "outputs": [
    {
     "name": "stdout",
     "output_type": "stream",
     "text": [
      "<class 'pandas.core.frame.DataFrame'>\n",
      "RangeIndex: 183412 entries, 0 to 183411\n",
      "Data columns (total 16 columns):\n",
      " #   Column                   Non-Null Count   Dtype  \n",
      "---  ------                   --------------   -----  \n",
      " 0   duration_sec             183412 non-null  int64  \n",
      " 1   start_time               183412 non-null  object \n",
      " 2   end_time                 183412 non-null  object \n",
      " 3   start_station_id         183215 non-null  float64\n",
      " 4   start_station_name       183215 non-null  object \n",
      " 5   start_station_latitude   183412 non-null  float64\n",
      " 6   start_station_longitude  183412 non-null  float64\n",
      " 7   end_station_id           183215 non-null  float64\n",
      " 8   end_station_name         183215 non-null  object \n",
      " 9   end_station_latitude     183412 non-null  float64\n",
      " 10  end_station_longitude    183412 non-null  float64\n",
      " 11  bike_id                  183412 non-null  int64  \n",
      " 12  user_type                183412 non-null  object \n",
      " 13  member_birth_year        175147 non-null  float64\n",
      " 14  member_gender            175147 non-null  object \n",
      " 15  bike_share_for_all_trip  183412 non-null  object \n",
      "dtypes: float64(7), int64(2), object(7)\n",
      "memory usage: 22.4+ MB\n"
     ]
    }
   ],
   "source": [
    "gobike.info()"
   ]
  },
  {
   "cell_type": "code",
   "execution_count": 9,
   "id": "d50ebc6f",
   "metadata": {},
   "outputs": [
    {
     "data": {
      "text/plain": [
       "0"
      ]
     },
     "execution_count": 9,
     "metadata": {},
     "output_type": "execute_result"
    }
   ],
   "source": [
    "gobike.duplicated().sum()"
   ]
  },
  {
   "cell_type": "code",
   "execution_count": 12,
   "id": "aa70726b",
   "metadata": {},
   "outputs": [
    {
     "name": "stdout",
     "output_type": "stream",
     "text": [
      "Subscriber    163544\n",
      "Customer       19868\n",
      "Name: user_type, dtype: int64 \n",
      "\n",
      "Male      130651\n",
      "Female     40844\n",
      "Other       3652\n",
      "Name: member_gender, dtype: int64 \n",
      "\n",
      "No     166053\n",
      "Yes     17359\n",
      "Name: bike_share_for_all_trip, dtype: int64 \n",
      "\n"
     ]
    }
   ],
   "source": [
    "print(gobike.user_type.value_counts(),'\\n')\n",
    "print(gobike.member_gender.value_counts(),'\\n')\n",
    "print(gobike.bike_share_for_all_trip.value_counts(),'\\n')"
   ]
  },
  {
   "cell_type": "code",
   "execution_count": 13,
   "id": "a88874fa",
   "metadata": {},
   "outputs": [
    {
     "data": {
      "text/plain": [
       "Index(['duration_sec', 'start_time', 'end_time', 'start_station_id',\n",
       "       'start_station_name', 'start_station_latitude',\n",
       "       'start_station_longitude', 'end_station_id', 'end_station_name',\n",
       "       'end_station_latitude', 'end_station_longitude', 'bike_id', 'user_type',\n",
       "       'member_birth_year', 'member_gender', 'bike_share_for_all_trip'],\n",
       "      dtype='object')"
      ]
     },
     "execution_count": 13,
     "metadata": {},
     "output_type": "execute_result"
    }
   ],
   "source": [
    "gobike.columns"
   ]
  },
  {
   "cell_type": "markdown",
   "id": "b85811c9",
   "metadata": {},
   "source": [
    "### From the data we can notice that :\n"
   ]
  },
  {
   "cell_type": "markdown",
   "id": "d5fa7bf4",
   "metadata": {},
   "source": [
    "1-start_time and end time should be datetime\n",
    "\n",
    "2-user_type ,member_gender,bike_share_for_all_trip should be converted from object to Category\n",
    "\n",
    "3-we should add column to member_age from member_birth_year to see the distribution of ages"
   ]
  },
  {
   "cell_type": "code",
   "execution_count": 14,
   "id": "f00bcd47",
   "metadata": {},
   "outputs": [
    {
     "data": {
      "text/html": [
       "<div>\n",
       "<style scoped>\n",
       "    .dataframe tbody tr th:only-of-type {\n",
       "        vertical-align: middle;\n",
       "    }\n",
       "\n",
       "    .dataframe tbody tr th {\n",
       "        vertical-align: top;\n",
       "    }\n",
       "\n",
       "    .dataframe thead th {\n",
       "        text-align: right;\n",
       "    }\n",
       "</style>\n",
       "<table border=\"1\" class=\"dataframe\">\n",
       "  <thead>\n",
       "    <tr style=\"text-align: right;\">\n",
       "      <th></th>\n",
       "      <th>duration_sec</th>\n",
       "      <th>start_station_id</th>\n",
       "      <th>start_station_latitude</th>\n",
       "      <th>start_station_longitude</th>\n",
       "      <th>end_station_id</th>\n",
       "      <th>end_station_latitude</th>\n",
       "      <th>end_station_longitude</th>\n",
       "      <th>bike_id</th>\n",
       "      <th>member_birth_year</th>\n",
       "    </tr>\n",
       "  </thead>\n",
       "  <tbody>\n",
       "    <tr>\n",
       "      <th>count</th>\n",
       "      <td>183412.000000</td>\n",
       "      <td>183215.000000</td>\n",
       "      <td>183412.000000</td>\n",
       "      <td>183412.000000</td>\n",
       "      <td>183215.000000</td>\n",
       "      <td>183412.000000</td>\n",
       "      <td>183412.000000</td>\n",
       "      <td>183412.000000</td>\n",
       "      <td>175147.000000</td>\n",
       "    </tr>\n",
       "    <tr>\n",
       "      <th>mean</th>\n",
       "      <td>726.078435</td>\n",
       "      <td>138.590427</td>\n",
       "      <td>37.771223</td>\n",
       "      <td>-122.352664</td>\n",
       "      <td>136.249123</td>\n",
       "      <td>37.771427</td>\n",
       "      <td>-122.352250</td>\n",
       "      <td>4472.906375</td>\n",
       "      <td>1984.806437</td>\n",
       "    </tr>\n",
       "    <tr>\n",
       "      <th>std</th>\n",
       "      <td>1794.389780</td>\n",
       "      <td>111.778864</td>\n",
       "      <td>0.099581</td>\n",
       "      <td>0.117097</td>\n",
       "      <td>111.515131</td>\n",
       "      <td>0.099490</td>\n",
       "      <td>0.116673</td>\n",
       "      <td>1664.383394</td>\n",
       "      <td>10.116689</td>\n",
       "    </tr>\n",
       "    <tr>\n",
       "      <th>min</th>\n",
       "      <td>61.000000</td>\n",
       "      <td>3.000000</td>\n",
       "      <td>37.317298</td>\n",
       "      <td>-122.453704</td>\n",
       "      <td>3.000000</td>\n",
       "      <td>37.317298</td>\n",
       "      <td>-122.453704</td>\n",
       "      <td>11.000000</td>\n",
       "      <td>1878.000000</td>\n",
       "    </tr>\n",
       "    <tr>\n",
       "      <th>25%</th>\n",
       "      <td>325.000000</td>\n",
       "      <td>47.000000</td>\n",
       "      <td>37.770083</td>\n",
       "      <td>-122.412408</td>\n",
       "      <td>44.000000</td>\n",
       "      <td>37.770407</td>\n",
       "      <td>-122.411726</td>\n",
       "      <td>3777.000000</td>\n",
       "      <td>1980.000000</td>\n",
       "    </tr>\n",
       "    <tr>\n",
       "      <th>50%</th>\n",
       "      <td>514.000000</td>\n",
       "      <td>104.000000</td>\n",
       "      <td>37.780760</td>\n",
       "      <td>-122.398285</td>\n",
       "      <td>100.000000</td>\n",
       "      <td>37.781010</td>\n",
       "      <td>-122.398279</td>\n",
       "      <td>4958.000000</td>\n",
       "      <td>1987.000000</td>\n",
       "    </tr>\n",
       "    <tr>\n",
       "      <th>75%</th>\n",
       "      <td>796.000000</td>\n",
       "      <td>239.000000</td>\n",
       "      <td>37.797280</td>\n",
       "      <td>-122.286533</td>\n",
       "      <td>235.000000</td>\n",
       "      <td>37.797320</td>\n",
       "      <td>-122.288045</td>\n",
       "      <td>5502.000000</td>\n",
       "      <td>1992.000000</td>\n",
       "    </tr>\n",
       "    <tr>\n",
       "      <th>max</th>\n",
       "      <td>85444.000000</td>\n",
       "      <td>398.000000</td>\n",
       "      <td>37.880222</td>\n",
       "      <td>-121.874119</td>\n",
       "      <td>398.000000</td>\n",
       "      <td>37.880222</td>\n",
       "      <td>-121.874119</td>\n",
       "      <td>6645.000000</td>\n",
       "      <td>2001.000000</td>\n",
       "    </tr>\n",
       "  </tbody>\n",
       "</table>\n",
       "</div>"
      ],
      "text/plain": [
       "        duration_sec  start_station_id  start_station_latitude  \\\n",
       "count  183412.000000     183215.000000           183412.000000   \n",
       "mean      726.078435        138.590427               37.771223   \n",
       "std      1794.389780        111.778864                0.099581   \n",
       "min        61.000000          3.000000               37.317298   \n",
       "25%       325.000000         47.000000               37.770083   \n",
       "50%       514.000000        104.000000               37.780760   \n",
       "75%       796.000000        239.000000               37.797280   \n",
       "max     85444.000000        398.000000               37.880222   \n",
       "\n",
       "       start_station_longitude  end_station_id  end_station_latitude  \\\n",
       "count            183412.000000   183215.000000         183412.000000   \n",
       "mean               -122.352664      136.249123             37.771427   \n",
       "std                   0.117097      111.515131              0.099490   \n",
       "min                -122.453704        3.000000             37.317298   \n",
       "25%                -122.412408       44.000000             37.770407   \n",
       "50%                -122.398285      100.000000             37.781010   \n",
       "75%                -122.286533      235.000000             37.797320   \n",
       "max                -121.874119      398.000000             37.880222   \n",
       "\n",
       "       end_station_longitude        bike_id  member_birth_year  \n",
       "count          183412.000000  183412.000000      175147.000000  \n",
       "mean             -122.352250    4472.906375        1984.806437  \n",
       "std                 0.116673    1664.383394          10.116689  \n",
       "min              -122.453704      11.000000        1878.000000  \n",
       "25%              -122.411726    3777.000000        1980.000000  \n",
       "50%              -122.398279    4958.000000        1987.000000  \n",
       "75%              -122.288045    5502.000000        1992.000000  \n",
       "max              -121.874119    6645.000000        2001.000000  "
      ]
     },
     "execution_count": 14,
     "metadata": {},
     "output_type": "execute_result"
    }
   ],
   "source": [
    "gobike.describe()"
   ]
  },
  {
   "cell_type": "code",
   "execution_count": 15,
   "id": "db35474a",
   "metadata": {},
   "outputs": [
    {
     "data": {
      "text/plain": [
       "(0.0, 80.0)"
      ]
     },
     "execution_count": 15,
     "metadata": {},
     "output_type": "execute_result"
    },
    {
     "data": {
      "image/png": "[encoded data removed]",
      "text/plain": [
       "<Figure size 432x288 with 1 Axes>"
      ]
     },
     "metadata": {
      "needs_background": "light"
     },
     "output_type": "display_data"
    }
   ],
   "source": [
    "sb.countplot(data=gobike,x='member_birth_year')\n",
    "plt.xticks(rotation=90)\n",
    "plt.xlim(0,8)\n",
    "plt.ylim(0,80)"
   ]
  },
  {
   "cell_type": "markdown",
   "id": "1d56a90c",
   "metadata": {},
   "source": [
    "their member that birth_year<=1920 & Age>99"
   ]
  },
  {
   "cell_type": "markdown",
   "id": "10b42d11",
   "metadata": {},
   "source": [
    "there are not column for day and month and the hour of day the trip stated and the duration of trip "
   ]
  },
  {
   "cell_type": "markdown",
   "id": "343057ee",
   "metadata": {},
   "source": [
    "### 3-Clean"
   ]
  },
  {
   "cell_type": "markdown",
   "id": "2ea3b3de",
   "metadata": {},
   "source": [
    "copy the original datasets so any changes doesn't affect the original datasets"
   ]
  },
  {
   "cell_type": "code",
   "execution_count": 17,
   "id": "1520d74e",
   "metadata": {},
   "outputs": [],
   "source": [
    "trips=gobike.copy()"
   ]
  },
  {
   "cell_type": "markdown",
   "id": "60fd0313",
   "metadata": {},
   "source": [
    "### Define"
   ]
  },
  {
   "cell_type": "markdown",
   "id": "511422bf",
   "metadata": {},
   "source": [
    "1-change start_time and end_time to datetime\n",
    "\n",
    "2-change user_type ,member_gender,bike_share_for_all_trip should be converted from object to Category using astype('category')\n",
    "\n",
    "3-Drop the following columns ('start_station_id', 'start_station_name', 'start_station_latitude', 'start_station_longitude', 'end_station_id', 'end_station_name', 'end_station_latitude', 'end_station_longitude')\n",
    "\n",
    "4-Add column for memeber_age baseed on member_birth_year column to see the distribution of ages, and delete the member_birth_year column\n",
    "\n",
    "5-filter out the member who birth_year<=1920\n",
    "\n",
    "6-Add column for day, month, hour of day and duration hour for trip"
   ]
  },
  {
   "cell_type": "code",
   "execution_count": 19,
   "id": "93649f8d",
   "metadata": {},
   "outputs": [],
   "source": [
    "#change the start_time and end_time to datetime\n",
    "trips.start_time=pd.to_datetime(trips.start_time)\n",
    "trips.end_time=pd.to_datetime(trips.end_time)"
   ]
  },
  {
   "cell_type": "code",
   "execution_count": 21,
   "id": "df6e98fa",
   "metadata": {},
   "outputs": [],
   "source": [
    "#convert user_type,member_gender,bike_share_for_all_trip to Category\n",
    "trips.user_type=trips.user_type.astype(\"category\")\n",
    "trips.member_gender=trips.member_gender.astype(\"category\")\n",
    "trips.bike_share_for_all_trip=trips.bike_share_for_all_trip.astype(\"category\")"
   ]
  },
  {
   "cell_type": "code",
   "execution_count": 36,
   "id": "c6688738",
   "metadata": {},
   "outputs": [],
   "source": [
    "#drop the following columns('start_station_id', 'start_station_name', 'start_station_latitude', 'start_station_longitude', 'end_station_id', 'end_station_name', 'end_station_latitude', 'end_station_longitude')\n",
    "drop_columns=['start_station_id', 'start_station_name', 'start_station_latitude', 'start_station_longitude', 'end_station_id', 'end_station_name', 'end_station_latitude', 'end_station_longitude']\n",
    "trips=trips.drop(drop_columns,axis=1)"
   ]
  },
  {
   "cell_type": "code",
   "execution_count": 37,
   "id": "31dddb4a",
   "metadata": {},
   "outputs": [],
   "source": [
    "#Add Columns for member_age instead of member_birth_year and deleted birth_year column\n",
    "trips['member_age']=2019-trips.member_birth_year\n",
    "trips=trips.drop('member_birth_year',axis=1)"
   ]
  },
  {
   "cell_type": "code",
   "execution_count": 38,
   "id": "7dcc9c9f",
   "metadata": {},
   "outputs": [],
   "source": [
    "#filter out the member who age >99\n",
    "trips=trips.query('member_age<99')"
   ]
  },
  {
   "cell_type": "code",
   "execution_count": 39,
   "id": "ff538e25",
   "metadata": {},
   "outputs": [],
   "source": [
    "#Add columns for day,month,hour that trip started ,and columns for duration_hour\n",
    "trips['start_day']=trips.start_time.dt.day_name().astype('category')\n",
    "trips['start_hour']=trips.start_time.dt.hour\n",
    "trips['duration_hour']=((trips.duration_sec)/(60*60)).astype('int')\n",
    "trips['duration_minutes']=((trips.duration_sec)/(60)).astype('int')"
   ]
  },
  {
   "cell_type": "code",
   "execution_count": 40,
   "id": "26afea9d",
   "metadata": {},
   "outputs": [
    {
     "data": {
      "text/html": [
       "<div>\n",
       "<style scoped>\n",
       "    .dataframe tbody tr th:only-of-type {\n",
       "        vertical-align: middle;\n",
       "    }\n",
       "\n",
       "    .dataframe tbody tr th {\n",
       "        vertical-align: top;\n",
       "    }\n",
       "\n",
       "    .dataframe thead th {\n",
       "        text-align: right;\n",
       "    }\n",
       "</style>\n",
       "<table border=\"1\" class=\"dataframe\">\n",
       "  <thead>\n",
       "    <tr style=\"text-align: right;\">\n",
       "      <th></th>\n",
       "      <th>duration_sec</th>\n",
       "      <th>start_time</th>\n",
       "      <th>end_time</th>\n",
       "      <th>bike_id</th>\n",
       "      <th>user_type</th>\n",
       "      <th>member_gender</th>\n",
       "      <th>bike_share_for_all_trip</th>\n",
       "      <th>member_age</th>\n",
       "      <th>start_day</th>\n",
       "      <th>start_hour</th>\n",
       "      <th>duration_hour</th>\n",
       "      <th>duration_minutes</th>\n",
       "    </tr>\n",
       "  </thead>\n",
       "  <tbody>\n",
       "    <tr>\n",
       "      <th>0</th>\n",
       "      <td>52185</td>\n",
       "      <td>2019-02-28 17:32:10.145</td>\n",
       "      <td>2019-03-01 08:01:55.975</td>\n",
       "      <td>4902</td>\n",
       "      <td>Customer</td>\n",
       "      <td>Male</td>\n",
       "      <td>No</td>\n",
       "      <td>35.0</td>\n",
       "      <td>Thursday</td>\n",
       "      <td>17</td>\n",
       "      <td>14</td>\n",
       "      <td>869</td>\n",
       "    </tr>\n",
       "    <tr>\n",
       "      <th>2</th>\n",
       "      <td>61854</td>\n",
       "      <td>2019-02-28 12:13:13.218</td>\n",
       "      <td>2019-03-01 05:24:08.146</td>\n",
       "      <td>5905</td>\n",
       "      <td>Customer</td>\n",
       "      <td>Male</td>\n",
       "      <td>No</td>\n",
       "      <td>47.0</td>\n",
       "      <td>Thursday</td>\n",
       "      <td>12</td>\n",
       "      <td>17</td>\n",
       "      <td>1030</td>\n",
       "    </tr>\n",
       "    <tr>\n",
       "      <th>3</th>\n",
       "      <td>36490</td>\n",
       "      <td>2019-02-28 17:54:26.010</td>\n",
       "      <td>2019-03-01 04:02:36.842</td>\n",
       "      <td>6638</td>\n",
       "      <td>Subscriber</td>\n",
       "      <td>Other</td>\n",
       "      <td>No</td>\n",
       "      <td>30.0</td>\n",
       "      <td>Thursday</td>\n",
       "      <td>17</td>\n",
       "      <td>10</td>\n",
       "      <td>608</td>\n",
       "    </tr>\n",
       "    <tr>\n",
       "      <th>4</th>\n",
       "      <td>1585</td>\n",
       "      <td>2019-02-28 23:54:18.549</td>\n",
       "      <td>2019-03-01 00:20:44.074</td>\n",
       "      <td>4898</td>\n",
       "      <td>Subscriber</td>\n",
       "      <td>Male</td>\n",
       "      <td>Yes</td>\n",
       "      <td>45.0</td>\n",
       "      <td>Thursday</td>\n",
       "      <td>23</td>\n",
       "      <td>0</td>\n",
       "      <td>26</td>\n",
       "    </tr>\n",
       "    <tr>\n",
       "      <th>5</th>\n",
       "      <td>1793</td>\n",
       "      <td>2019-02-28 23:49:58.632</td>\n",
       "      <td>2019-03-01 00:19:51.760</td>\n",
       "      <td>5200</td>\n",
       "      <td>Subscriber</td>\n",
       "      <td>Male</td>\n",
       "      <td>No</td>\n",
       "      <td>60.0</td>\n",
       "      <td>Thursday</td>\n",
       "      <td>23</td>\n",
       "      <td>0</td>\n",
       "      <td>29</td>\n",
       "    </tr>\n",
       "    <tr>\n",
       "      <th>...</th>\n",
       "      <td>...</td>\n",
       "      <td>...</td>\n",
       "      <td>...</td>\n",
       "      <td>...</td>\n",
       "      <td>...</td>\n",
       "      <td>...</td>\n",
       "      <td>...</td>\n",
       "      <td>...</td>\n",
       "      <td>...</td>\n",
       "      <td>...</td>\n",
       "      <td>...</td>\n",
       "      <td>...</td>\n",
       "    </tr>\n",
       "    <tr>\n",
       "      <th>183407</th>\n",
       "      <td>480</td>\n",
       "      <td>2019-02-01 00:04:49.724</td>\n",
       "      <td>2019-02-01 00:12:50.034</td>\n",
       "      <td>4832</td>\n",
       "      <td>Subscriber</td>\n",
       "      <td>Male</td>\n",
       "      <td>No</td>\n",
       "      <td>23.0</td>\n",
       "      <td>Friday</td>\n",
       "      <td>0</td>\n",
       "      <td>0</td>\n",
       "      <td>8</td>\n",
       "    </tr>\n",
       "    <tr>\n",
       "      <th>183408</th>\n",
       "      <td>313</td>\n",
       "      <td>2019-02-01 00:05:34.744</td>\n",
       "      <td>2019-02-01 00:10:48.502</td>\n",
       "      <td>4960</td>\n",
       "      <td>Subscriber</td>\n",
       "      <td>Male</td>\n",
       "      <td>No</td>\n",
       "      <td>35.0</td>\n",
       "      <td>Friday</td>\n",
       "      <td>0</td>\n",
       "      <td>0</td>\n",
       "      <td>5</td>\n",
       "    </tr>\n",
       "    <tr>\n",
       "      <th>183409</th>\n",
       "      <td>141</td>\n",
       "      <td>2019-02-01 00:06:05.549</td>\n",
       "      <td>2019-02-01 00:08:27.220</td>\n",
       "      <td>3824</td>\n",
       "      <td>Subscriber</td>\n",
       "      <td>Male</td>\n",
       "      <td>Yes</td>\n",
       "      <td>29.0</td>\n",
       "      <td>Friday</td>\n",
       "      <td>0</td>\n",
       "      <td>0</td>\n",
       "      <td>2</td>\n",
       "    </tr>\n",
       "    <tr>\n",
       "      <th>183410</th>\n",
       "      <td>139</td>\n",
       "      <td>2019-02-01 00:05:34.360</td>\n",
       "      <td>2019-02-01 00:07:54.287</td>\n",
       "      <td>5095</td>\n",
       "      <td>Subscriber</td>\n",
       "      <td>Male</td>\n",
       "      <td>No</td>\n",
       "      <td>31.0</td>\n",
       "      <td>Friday</td>\n",
       "      <td>0</td>\n",
       "      <td>0</td>\n",
       "      <td>2</td>\n",
       "    </tr>\n",
       "    <tr>\n",
       "      <th>183411</th>\n",
       "      <td>271</td>\n",
       "      <td>2019-02-01 00:00:20.636</td>\n",
       "      <td>2019-02-01 00:04:52.058</td>\n",
       "      <td>1057</td>\n",
       "      <td>Subscriber</td>\n",
       "      <td>Male</td>\n",
       "      <td>No</td>\n",
       "      <td>30.0</td>\n",
       "      <td>Friday</td>\n",
       "      <td>0</td>\n",
       "      <td>0</td>\n",
       "      <td>4</td>\n",
       "    </tr>\n",
       "  </tbody>\n",
       "</table>\n",
       "<p>175072 rows × 12 columns</p>\n",
       "</div>"
      ],
      "text/plain": [
       "        duration_sec              start_time                end_time  bike_id  \\\n",
       "0              52185 2019-02-28 17:32:10.145 2019-03-01 08:01:55.975     4902   \n",
       "2              61854 2019-02-28 12:13:13.218 2019-03-01 05:24:08.146     5905   \n",
       "3              36490 2019-02-28 17:54:26.010 2019-03-01 04:02:36.842     6638   \n",
       "4               1585 2019-02-28 23:54:18.549 2019-03-01 00:20:44.074     4898   \n",
       "5               1793 2019-02-28 23:49:58.632 2019-03-01 00:19:51.760     5200   \n",
       "...              ...                     ...                     ...      ...   \n",
       "183407           480 2019-02-01 00:04:49.724 2019-02-01 00:12:50.034     4832   \n",
       "183408           313 2019-02-01 00:05:34.744 2019-02-01 00:10:48.502     4960   \n",
       "183409           141 2019-02-01 00:06:05.549 2019-02-01 00:08:27.220     3824   \n",
       "183410           139 2019-02-01 00:05:34.360 2019-02-01 00:07:54.287     5095   \n",
       "183411           271 2019-02-01 00:00:20.636 2019-02-01 00:04:52.058     1057   \n",
       "\n",
       "         user_type member_gender bike_share_for_all_trip  member_age  \\\n",
       "0         Customer          Male                      No        35.0   \n",
       "2         Customer          Male                      No        47.0   \n",
       "3       Subscriber         Other                      No        30.0   \n",
       "4       Subscriber          Male                     Yes        45.0   \n",
       "5       Subscriber          Male                      No        60.0   \n",
       "...            ...           ...                     ...         ...   \n",
       "183407  Subscriber          Male                      No        23.0   \n",
       "183408  Subscriber          Male                      No        35.0   \n",
       "183409  Subscriber          Male                     Yes        29.0   \n",
       "183410  Subscriber          Male                      No        31.0   \n",
       "183411  Subscriber          Male                      No        30.0   \n",
       "\n",
       "       start_day  start_hour  duration_hour  duration_minutes  \n",
       "0       Thursday          17             14               869  \n",
       "2       Thursday          12             17              1030  \n",
       "3       Thursday          17             10               608  \n",
       "4       Thursday          23              0                26  \n",
       "5       Thursday          23              0                29  \n",
       "...          ...         ...            ...               ...  \n",
       "183407    Friday           0              0                 8  \n",
       "183408    Friday           0              0                 5  \n",
       "183409    Friday           0              0                 2  \n",
       "183410    Friday           0              0                 2  \n",
       "183411    Friday           0              0                 4  \n",
       "\n",
       "[175072 rows x 12 columns]"
      ]
     },
     "execution_count": 40,
     "metadata": {},
     "output_type": "execute_result"
    }
   ],
   "source": [
    "trips"
   ]
  },
  {
   "cell_type": "markdown",
   "id": "2b717dae",
   "metadata": {},
   "source": [
    "### Test"
   ]
  },
  {
   "cell_type": "code",
   "execution_count": 41,
   "id": "3d494675",
   "metadata": {},
   "outputs": [
    {
     "name": "stdout",
     "output_type": "stream",
     "text": [
      "<class 'pandas.core.frame.DataFrame'>\n",
      "Int64Index: 175072 entries, 0 to 183411\n",
      "Data columns (total 12 columns):\n",
      " #   Column                   Non-Null Count   Dtype         \n",
      "---  ------                   --------------   -----         \n",
      " 0   duration_sec             175072 non-null  int64         \n",
      " 1   start_time               175072 non-null  datetime64[ns]\n",
      " 2   end_time                 175072 non-null  datetime64[ns]\n",
      " 3   bike_id                  175072 non-null  int64         \n",
      " 4   user_type                175072 non-null  category      \n",
      " 5   member_gender            175072 non-null  category      \n",
      " 6   bike_share_for_all_trip  175072 non-null  category      \n",
      " 7   member_age               175072 non-null  float64       \n",
      " 8   start_day                175072 non-null  category      \n",
      " 9   start_hour               175072 non-null  int64         \n",
      " 10  duration_hour            175072 non-null  int32         \n",
      " 11  duration_minutes         175072 non-null  int32         \n",
      "dtypes: category(4), datetime64[ns](2), float64(1), int32(2), int64(3)\n",
      "memory usage: 11.4 MB\n"
     ]
    }
   ],
   "source": [
    "#test all the changes in the datasets\n",
    "trips.info()"
   ]
  },
  {
   "cell_type": "code",
   "execution_count": 43,
   "id": "43835edf",
   "metadata": {},
   "outputs": [
    {
     "data": {
      "text/html": [
       "<div>\n",
       "<style scoped>\n",
       "    .dataframe tbody tr th:only-of-type {\n",
       "        vertical-align: middle;\n",
       "    }\n",
       "\n",
       "    .dataframe tbody tr th {\n",
       "        vertical-align: top;\n",
       "    }\n",
       "\n",
       "    .dataframe thead th {\n",
       "        text-align: right;\n",
       "    }\n",
       "</style>\n",
       "<table border=\"1\" class=\"dataframe\">\n",
       "  <thead>\n",
       "    <tr style=\"text-align: right;\">\n",
       "      <th></th>\n",
       "      <th>duration_sec</th>\n",
       "      <th>start_time</th>\n",
       "      <th>end_time</th>\n",
       "      <th>bike_id</th>\n",
       "      <th>user_type</th>\n",
       "      <th>member_gender</th>\n",
       "      <th>bike_share_for_all_trip</th>\n",
       "      <th>member_age</th>\n",
       "      <th>start_day</th>\n",
       "      <th>start_hour</th>\n",
       "      <th>duration_hour</th>\n",
       "      <th>duration_minutes</th>\n",
       "    </tr>\n",
       "  </thead>\n",
       "  <tbody>\n",
       "  </tbody>\n",
       "</table>\n",
       "</div>"
      ],
      "text/plain": [
       "Empty DataFrame\n",
       "Columns: [duration_sec, start_time, end_time, bike_id, user_type, member_gender, bike_share_for_all_trip, member_age, start_day, start_hour, duration_hour, duration_minutes]\n",
       "Index: []"
      ]
     },
     "execution_count": 43,
     "metadata": {},
     "output_type": "execute_result"
    }
   ],
   "source": [
    "#To Test,check if their any user age> 99\n",
    "trips.query('member_age>99')"
   ]
  },
  {
   "cell_type": "markdown",
   "id": "284546a5",
   "metadata": {},
   "source": [
    "### What is the Structure of the dataset ?"
   ]
  },
  {
   "cell_type": "markdown",
   "id": "4caa4515",
   "metadata": {},
   "source": [
    "there are 175072 row with 12 features {duration_sec start_time end_time bike_id user_type member_gender bike_share_for_all_trip member_age start_day start_hour duration_hour duration_minutes}\n",
    "\n",
    "the data type for variable are integer(duration_sec,bike_id,start_hour,duration_hour,duration_minutes),datetime(start_time,end_time),category(user_type,member_gender,bike_share_for_all_trip,start_day)"
   ]
  },
  {
   "cell_type": "markdown",
   "id": "a2515d00",
   "metadata": {},
   "source": [
    "### What is/are the main feature(s) of intrests in the datasets ?"
   ]
  },
  {
   "cell_type": "markdown",
   "id": "509b976f",
   "metadata": {},
   "source": [
    "Iam intrested to answering the following questions:"
   ]
  },
  {
   "cell_type": "markdown",
   "id": "d41e92f1",
   "metadata": {},
   "source": [
    "1-When are the most trips in terms of time of day,day of week?\n",
    "\n",
    "2-How long does the average trip take?\n",
    "\n",
    "3-Does the above append if user subscriber or customer?\n",
    "\n",
    "4-Does the above append on the member age and gender ?"
   ]
  },
  {
   "cell_type": "markdown",
   "id": "2d58fec5",
   "metadata": {},
   "source": [
    "### what the features in the datasets do you think think will help support your investigation into your feature(s) of interest?"
   ]
  },
  {
   "cell_type": "markdown",
   "id": "d843c1b5",
   "metadata": {},
   "source": [
    "I expect the user_type,member_gender,member_age will effect the average that trip take, and in which time of day, or day of the week."
   ]
  },
  {
   "cell_type": "markdown",
   "id": "7fd0ba81",
   "metadata": {},
   "source": [
    "### Univariate Exploration"
   ]
  },
  {
   "cell_type": "markdown",
   "id": "800a15e2",
   "metadata": {},
   "source": [
    "#### user_type,member_gender,bike_share_for_all_trip,member_age"
   ]
  },
  {
   "cell_type": "code",
   "execution_count": 51,
   "id": "8c6078a3",
   "metadata": {},
   "outputs": [
    {
     "data": {
      "image/png": "[encoded data removed]",
      "text/plain": [
       "<Figure size 1440x1080 with 3 Axes>"
      ]
     },
     "metadata": {},
     "output_type": "display_data"
    }
   ],
   "source": [
    "plt.figure(figsize=(20,15))\n",
    "plt.subplot(1,3,1)\n",
    "user_type_counts=trips['user_type'].value_counts()\n",
    "plt.pie(user_type_counts.values,labels=user_type_counts.index,startangle=90,counterclock=False,autopct='%1.1f%%')\n",
    "plt.title('Proportion of User Type');\n",
    "\n",
    "plt.subplot(1,3,2)\n",
    "member_gender_counts=trips['member_gender'].value_counts()\n",
    "plt.pie(member_gender_counts.values,labels=member_gender_counts.index,startangle=90,counterclock=False,autopct='%1.1f%%')\n",
    "plt.title('Proportion of member gender');\n",
    "\n",
    "\n",
    "plt.subplot(1,3,3)\n",
    "bike_share_counts=trips['bike_share_for_all_trip'].value_counts()\n",
    "plt.pie(bike_share_counts.values,labels=bike_share_counts.index,startangle=90,counterclock=False,autopct='%1.1f%%')\n",
    "plt.title('Proportion of bike_share_for_all_trip');\n",
    "\n"
   ]
  },
  {
   "cell_type": "markdown",
   "id": "3d76fa2f",
   "metadata": {},
   "source": [
    "### From the figure above we have noticed that:"
   ]
  },
  {
   "cell_type": "markdown",
   "id": "3db09975",
   "metadata": {},
   "source": [
    "1-the Subscriber user type percent is larger than customer\n",
    "\n",
    "2-The male is most bike user\n",
    "\n",
    "3-90% of user doesn't share bike all trips"
   ]
  },
  {
   "cell_type": "code",
   "execution_count": 56,
   "id": "d6bd341a",
   "metadata": {},
   "outputs": [
    {
     "data": {
      "text/plain": [
       "([<matplotlib.axis.XTick at 0x1d9daddc850>,\n",
       "  <matplotlib.axis.XTick at 0x1d9daddc820>,\n",
       "  <matplotlib.axis.XTick at 0x1d9dadda430>,\n",
       "  <matplotlib.axis.XTick at 0x1d9deadbe50>,\n",
       "  <matplotlib.axis.XTick at 0x1d9dea923a0>,\n",
       "  <matplotlib.axis.XTick at 0x1d9dea928b0>,\n",
       "  <matplotlib.axis.XTick at 0x1d9e3d5ad00>,\n",
       "  <matplotlib.axis.XTick at 0x1d9dea92dc0>,\n",
       "  <matplotlib.axis.XTick at 0x1d9dea98310>,\n",
       "  <matplotlib.axis.XTick at 0x1d9dea98820>,\n",
       "  <matplotlib.axis.XTick at 0x1d9dea98d30>,\n",
       "  <matplotlib.axis.XTick at 0x1d9dea9e280>,\n",
       "  <matplotlib.axis.XTick at 0x1d9dea9e790>,\n",
       "  <matplotlib.axis.XTick at 0x1d9dea9eca0>,\n",
       "  <matplotlib.axis.XTick at 0x1d9deaa51f0>,\n",
       "  <matplotlib.axis.XTick at 0x1d9dea9e460>,\n",
       "  <matplotlib.axis.XTick at 0x1d9dea984f0>,\n",
       "  <matplotlib.axis.XTick at 0x1d9deaa5340>,\n",
       "  <matplotlib.axis.XTick at 0x1d9deaa58b0>,\n",
       "  <matplotlib.axis.XTick at 0x1d9deaa5dc0>,\n",
       "  <matplotlib.axis.XTick at 0x1d9deaab310>,\n",
       "  <matplotlib.axis.XTick at 0x1d9deaab820>,\n",
       "  <matplotlib.axis.XTick at 0x1d9deaabd30>,\n",
       "  <matplotlib.axis.XTick at 0x1d9deab2280>,\n",
       "  <matplotlib.axis.XTick at 0x1d9deaab8b0>,\n",
       "  <matplotlib.axis.XTick at 0x1d9deaa5940>,\n",
       "  <matplotlib.axis.XTick at 0x1d9dea9e3a0>,\n",
       "  <matplotlib.axis.XTick at 0x1d9deab2940>,\n",
       "  <matplotlib.axis.XTick at 0x1d9deab2e50>,\n",
       "  <matplotlib.axis.XTick at 0x1d9deab93a0>,\n",
       "  <matplotlib.axis.XTick at 0x1d9deab98b0>,\n",
       "  <matplotlib.axis.XTick at 0x1d9deab9dc0>,\n",
       "  <matplotlib.axis.XTick at 0x1d9deabf310>,\n",
       "  <matplotlib.axis.XTick at 0x1d9deab99d0>,\n",
       "  <matplotlib.axis.XTick at 0x1d9deab2b80>,\n",
       "  <matplotlib.axis.XTick at 0x1d9deaab430>,\n",
       "  <matplotlib.axis.XTick at 0x1d9deabf9d0>,\n",
       "  <matplotlib.axis.XTick at 0x1d9deabfee0>,\n",
       "  <matplotlib.axis.XTick at 0x1d9deac9430>],\n",
       " [Text(0, 0, ''),\n",
       "  Text(0, 0, ''),\n",
       "  Text(0, 0, ''),\n",
       "  Text(0, 0, ''),\n",
       "  Text(0, 0, ''),\n",
       "  Text(0, 0, ''),\n",
       "  Text(0, 0, ''),\n",
       "  Text(0, 0, ''),\n",
       "  Text(0, 0, ''),\n",
       "  Text(0, 0, ''),\n",
       "  Text(0, 0, ''),\n",
       "  Text(0, 0, ''),\n",
       "  Text(0, 0, ''),\n",
       "  Text(0, 0, ''),\n",
       "  Text(0, 0, ''),\n",
       "  Text(0, 0, ''),\n",
       "  Text(0, 0, ''),\n",
       "  Text(0, 0, ''),\n",
       "  Text(0, 0, ''),\n",
       "  Text(0, 0, ''),\n",
       "  Text(0, 0, ''),\n",
       "  Text(0, 0, ''),\n",
       "  Text(0, 0, ''),\n",
       "  Text(0, 0, ''),\n",
       "  Text(0, 0, ''),\n",
       "  Text(0, 0, ''),\n",
       "  Text(0, 0, ''),\n",
       "  Text(0, 0, ''),\n",
       "  Text(0, 0, ''),\n",
       "  Text(0, 0, ''),\n",
       "  Text(0, 0, ''),\n",
       "  Text(0, 0, ''),\n",
       "  Text(0, 0, ''),\n",
       "  Text(0, 0, ''),\n",
       "  Text(0, 0, ''),\n",
       "  Text(0, 0, ''),\n",
       "  Text(0, 0, ''),\n",
       "  Text(0, 0, ''),\n",
       "  Text(0, 0, '')])"
      ]
     },
     "execution_count": 56,
     "metadata": {},
     "output_type": "execute_result"
    },
    {
     "data": {
      "image/png": "[encoded data removed]",
      "text/plain": [
       "<Figure size 1440x432 with 1 Axes>"
      ]
     },
     "metadata": {
      "needs_background": "light"
     },
     "output_type": "display_data"
    }
   ],
   "source": [
    "plt.figure(figsize=(20,6))\n",
    "age_bins=np.arange(trips.member_age.min()-1,trips.member_age.max()+2,2)\n",
    "plt.hist(data=trips,x='member_age',bins=age_bins)\n",
    "plt.xticks(age_bins)"
   ]
  },
  {
   "cell_type": "markdown",
   "id": "53864f76",
   "metadata": {},
   "source": [
    "From the Figure above we notice that:\n",
    "\n",
    "1-the most user age between 25 to 33 \n",
    "\n",
    "2-The whole figure is right skewed and we can see normal distribuation from 19 to 43 \n",
    "\n",
    "3- The number of user decreased in 49."
   ]
  },
  {
   "cell_type": "markdown",
   "id": "07042aa6",
   "metadata": {},
   "source": [
    "### Start_day,start_hour,duration_minutes"
   ]
  },
  {
   "cell_type": "code",
   "execution_count": 63,
   "id": "9f752c54",
   "metadata": {},
   "outputs": [
    {
     "data": {
      "text/plain": [
       "(0.0, 20.0)"
      ]
     },
     "execution_count": 63,
     "metadata": {},
     "output_type": "execute_result"
    },
    {
     "data": {
      "image/png": "[encoded data removed]",
      "text/plain": [
       "<Figure size 1440x432 with 2 Axes>"
      ]
     },
     "metadata": {
      "needs_background": "light"
     },
     "output_type": "display_data"
    }
   ],
   "source": [
    "#plot the distrbution of \n",
    "plt.figure(figsize=(20,6))\n",
    "plt.subplot(1,2,1)\n",
    "duration_bins=np.arange(trips.duration_minutes.min()-1,trips.duration_minutes.max()+100,100)\n",
    "plt.hist(data=trips,x='duration_minutes')\n",
    "plt.title('Distrubtion of Durations(minutes)')\n",
    "plt.xlabel('Duration (minutes)')\n",
    "plt.ylabel('Count')\n",
    "plt.xticks(duration_bins);\n",
    "\n",
    "#make y-scale from 0 to 20\n",
    "plt.subplot(1,2,2)\n",
    "duration_bins=np.arange(trips.duration_minutes.min()-1,trips.duration_minutes.max()+50,50)\n",
    "plt.hist(data=trips,x='duration_minutes',bins=duration_bins)\n",
    "plt.title('Distrubtion of Durations(minutes) scaled by X&y')\n",
    "plt.xlabel('Duration (minutes)')\n",
    "plt.ylabel('Count')\n",
    "plt.xlim(0,1500)\n",
    "plt.ylim(0,20)"
   ]
  },
  {
   "cell_type": "code",
   "execution_count": 65,
   "id": "f3ed83ba",
   "metadata": {},
   "outputs": [
    {
     "data": {
      "text/plain": [
       "count    175072.000000\n",
       "mean         11.245350\n",
       "std          27.366742\n",
       "min           1.000000\n",
       "25%           5.000000\n",
       "50%           8.000000\n",
       "75%          13.000000\n",
       "max        1409.000000\n",
       "Name: duration_minutes, dtype: float64"
      ]
     },
     "execution_count": 65,
     "metadata": {},
     "output_type": "execute_result"
    }
   ],
   "source": [
    "trips.duration_minutes.describe()"
   ]
  },
  {
   "cell_type": "markdown",
   "id": "0b641fa7",
   "metadata": {},
   "source": [
    "From the figure above we notice that most user using bike from (1-2)hours and the diagram is right-skewed"
   ]
  },
  {
   "cell_type": "code",
   "execution_count": 68,
   "id": "ee41d3dd",
   "metadata": {},
   "outputs": [
    {
     "data": {
      "text/plain": [
       "(array([0, 1, 2, 3, 4, 5, 6]),\n",
       " [Text(0, 0, 'Thursday'),\n",
       "  Text(1, 0, 'Tuesday'),\n",
       "  Text(2, 0, 'Wednesday'),\n",
       "  Text(3, 0, 'Friday'),\n",
       "  Text(4, 0, 'Monday'),\n",
       "  Text(5, 0, 'Sunday'),\n",
       "  Text(6, 0, 'Saturday')])"
      ]
     },
     "execution_count": 68,
     "metadata": {},
     "output_type": "execute_result"
    },
    {
     "data": {
      "image/png": "[encoded data removed]",
      "text/plain": [
       "<Figure size 432x288 with 1 Axes>"
      ]
     },
     "metadata": {
      "needs_background": "light"
     },
     "output_type": "display_data"
    }
   ],
   "source": [
    "sb.countplot(data=trips,x='start_day',order=trips.start_day.value_counts().index)\n",
    "plt.xticks(rotation=45)"
   ]
  },
  {
   "cell_type": "code",
   "execution_count": 69,
   "id": "8c05888c",
   "metadata": {},
   "outputs": [
    {
     "data": {
      "text/plain": [
       "<AxesSubplot:xlabel='start_hour', ylabel='count'>"
      ]
     },
     "execution_count": 69,
     "metadata": {},
     "output_type": "execute_result"
    },
    {
     "data": {
      "image/png": "[encoded data removed]",
      "text/plain": [
       "<Figure size 432x288 with 1 Axes>"
      ]
     },
     "metadata": {
      "needs_background": "light"
     },
     "output_type": "display_data"
    }
   ],
   "source": [
    "sb.countplot(data=trips,x='start_hour',order=trips.start_hour.value_counts().index)"
   ]
  },
  {
   "cell_type": "markdown",
   "id": "65cb99ef",
   "metadata": {},
   "source": [
    "### From the two plot we notice that :"
   ]
  },
  {
   "cell_type": "markdown",
   "id": "bd5927d6",
   "metadata": {},
   "source": [
    "1-The user use the bike the most in the work day and less in weekends\n",
    "\n",
    "2-The user use the bike the most in work hours going and leave(8 AM,17=(5 PM)),(9 AM,18=(6 PM))"
   ]
  },
  {
   "cell_type": "markdown",
   "id": "597f8645",
   "metadata": {},
   "source": [
    "### Discuss the distribution(s) of your variable(s) of interest"
   ]
  },
  {
   "cell_type": "markdown",
   "id": "094e6b07",
   "metadata": {},
   "source": [
    "1-the Subscriber user type percent is larger than customer\n",
    "\n",
    "2-The male is most bike user\n",
    "\n",
    "3-90% of user doesn't share bike all trips\n",
    "\n",
    "4-the most user age between 25 to 33\n",
    "\n",
    "5-The whole figure is right skewed and we can see normal distribuation from 19 to 43\n",
    "\n",
    "6- The number of user decreased in 49.\n",
    "\n",
    "7-From the figure above we notice that most user using bike from (1-2)hours\n",
    "\n",
    "8-The user use the bike the most in the work day and less in weekends\n",
    "\n",
    "9-The user use the bike the most in work hours going and leave(8 AM,17=(5 PM)),(9 AM,18=(6 PM))"
   ]
  },
  {
   "cell_type": "markdown",
   "id": "bd64b613",
   "metadata": {},
   "source": [
    "## Bivariate Exploration"
   ]
  },
  {
   "cell_type": "markdown",
   "id": "0cdcd0bb",
   "metadata": {},
   "source": [
    "### user_type vs(member_gender,bike_share_for_all_trip,start_day)"
   ]
  },
  {
   "cell_type": "code",
   "execution_count": 73,
   "id": "5d13d426",
   "metadata": {},
   "outputs": [
    {
     "data": {
      "text/plain": [
       "<AxesSubplot:xlabel='user_type', ylabel='count'>"
      ]
     },
     "execution_count": 73,
     "metadata": {},
     "output_type": "execute_result"
    },
    {
     "data": {
      "image/png": "[encoded data removed]",
      "text/plain": [
       "<Figure size 1440x360 with 3 Axes>"
      ]
     },
     "metadata": {
      "needs_background": "light"
     },
     "output_type": "display_data"
    }
   ],
   "source": [
    "plt.figure(figsize=(20,5))\n",
    "plt.subplot(1,3,1)\n",
    "sb.countplot(data=trips,x='user_type',hue='member_gender')\n",
    "\n",
    "plt.subplot(1,3,2)\n",
    "sb.countplot(data=trips,x='user_type',hue='bike_share_for_all_trip')\n",
    "\n",
    "plt.subplot(1,3,3)\n",
    "sb.countplot(data=trips,x='user_type',hue='start_day')\n"
   ]
  },
  {
   "cell_type": "markdown",
   "id": "f71977bd",
   "metadata": {},
   "source": [
    "### From the figure above:"
   ]
  },
  {
   "cell_type": "markdown",
   "id": "daf827c9",
   "metadata": {},
   "source": [
    "1-the males are the most number of customer and subscriber\n",
    "\n",
    "2-the customer do not share  bike for all trips ,and subscriber mostly do not share bike for all trips\n",
    "\n",
    "3-For Subscriber and Customer their trips in Sunday and Saturday are the least compared with the other day of the week.\n"
   ]
  },
  {
   "cell_type": "markdown",
   "id": "625ab80e",
   "metadata": {},
   "source": [
    "### user_type vs (member_age,start_hour,duration_minutes)"
   ]
  },
  {
   "cell_type": "code",
   "execution_count": 77,
   "id": "19f3284d",
   "metadata": {},
   "outputs": [
    {
     "data": {
      "text/plain": [
       "([<matplotlib.axis.XTick at 0x1d9e1f76400>,\n",
       "  <matplotlib.axis.XTick at 0x1d9e1f763d0>,\n",
       "  <matplotlib.axis.XTick at 0x1d9e1f8ffd0>,\n",
       "  <matplotlib.axis.XTick at 0x1d9e1fa36d0>,\n",
       "  <matplotlib.axis.XTick at 0x1d9e1fa3be0>,\n",
       "  <matplotlib.axis.XTick at 0x1d9e1fb9130>,\n",
       "  <matplotlib.axis.XTick at 0x1d9e21e3970>,\n",
       "  <matplotlib.axis.XTick at 0x1d9ec7d2d00>,\n",
       "  <matplotlib.axis.XTick at 0x1d9ec7c8250>,\n",
       "  <matplotlib.axis.XTick at 0x1d9ec7d2280>,\n",
       "  <matplotlib.axis.XTick at 0x1d9de482df0>,\n",
       "  <matplotlib.axis.XTick at 0x1d9e1fa3760>,\n",
       "  <matplotlib.axis.XTick at 0x1d9ec7c2a30>,\n",
       "  <matplotlib.axis.XTick at 0x1d9ec7c2f40>,\n",
       "  <matplotlib.axis.XTick at 0x1d9ec7b7490>,\n",
       "  <matplotlib.axis.XTick at 0x1d9e1f8fcd0>,\n",
       "  <matplotlib.axis.XTick at 0x1d9ec7c8a60>,\n",
       "  <matplotlib.axis.XTick at 0x1d9ec7d8e20>,\n",
       "  <matplotlib.axis.XTick at 0x1d9ec7b7910>,\n",
       "  <matplotlib.axis.XTick at 0x1d9ec7b7e20>],\n",
       " [Text(10.0, 0, '10'),\n",
       "  Text(20.0, 0, '20'),\n",
       "  Text(30.0, 0, '30'),\n",
       "  Text(40.0, 0, '40'),\n",
       "  Text(50.0, 0, '50'),\n",
       "  Text(60.0, 0, '60'),\n",
       "  Text(70.0, 0, '70'),\n",
       "  Text(80.0, 0, '80'),\n",
       "  Text(90.0, 0, '90'),\n",
       "  Text(100.0, 0, '100'),\n",
       "  Text(0, 0, ''),\n",
       "  Text(0, 0, ''),\n",
       "  Text(0, 0, ''),\n",
       "  Text(0, 0, ''),\n",
       "  Text(0, 0, ''),\n",
       "  Text(0, 0, ''),\n",
       "  Text(0, 0, ''),\n",
       "  Text(0, 0, ''),\n",
       "  Text(0, 0, ''),\n",
       "  Text(0, 0, '')])"
      ]
     },
     "execution_count": 77,
     "metadata": {},
     "output_type": "execute_result"
    },
    {
     "data": {
      "image/png": "[encoded data removed]",
      "text/plain": [
       "<Figure size 720x360 with 2 Axes>"
      ]
     },
     "metadata": {
      "needs_background": "light"
     },
     "output_type": "display_data"
    }
   ],
   "source": [
    "#the 2 plot do not share y\n",
    "g=sb.FacetGrid(data=trips,col='user_type',sharey=False,col_wrap=2,height=5)\n",
    "g.map(plt.hist,'member_age',bins=age_bins)\n",
    "x_labels=np.arange(trips.member_age.min()-1,trips.member_age.max()+4,4)\n",
    "plt.xticks(x_labels)"
   ]
  },
  {
   "cell_type": "markdown",
   "id": "19a85dc5",
   "metadata": {},
   "source": [
    "#### For Customer and Subscriber the most member age between 25-37"
   ]
  },
  {
   "cell_type": "code",
   "execution_count": 81,
   "id": "67e5e34f",
   "metadata": {},
   "outputs": [
    {
     "data": {
      "text/plain": [
       "([<matplotlib.axis.YTick at 0x1d9e6f624f0>,\n",
       "  <matplotlib.axis.YTick at 0x1d9e6f620d0>,\n",
       "  <matplotlib.axis.YTick at 0x1d9ea205370>,\n",
       "  <matplotlib.axis.YTick at 0x1d9e268e280>,\n",
       "  <matplotlib.axis.YTick at 0x1d9e268e790>,\n",
       "  <matplotlib.axis.YTick at 0x1d9e268eca0>,\n",
       "  <matplotlib.axis.YTick at 0x1d9e26951f0>,\n",
       "  <matplotlib.axis.YTick at 0x1d9e2695700>,\n",
       "  <matplotlib.axis.YTick at 0x1d9e268e7f0>,\n",
       "  <matplotlib.axis.YTick at 0x1d9e26953d0>,\n",
       "  <matplotlib.axis.YTick at 0x1d9e2695dc0>,\n",
       "  <matplotlib.axis.YTick at 0x1d9e269b310>,\n",
       "  <matplotlib.axis.YTick at 0x1d9e269b820>,\n",
       "  <matplotlib.axis.YTick at 0x1d9e269bd30>,\n",
       "  <matplotlib.axis.YTick at 0x1d9e26a0280>,\n",
       "  <matplotlib.axis.YTick at 0x1d9e26a0790>,\n",
       "  <matplotlib.axis.YTick at 0x1d9e26a0ca0>,\n",
       "  <matplotlib.axis.YTick at 0x1d9e269b4f0>,\n",
       "  <matplotlib.axis.YTick at 0x1d9e6f6ef10>,\n",
       "  <matplotlib.axis.YTick at 0x1d9e26a0400>,\n",
       "  <matplotlib.axis.YTick at 0x1d9defe43a0>,\n",
       "  <matplotlib.axis.YTick at 0x1d9defe48b0>,\n",
       "  <matplotlib.axis.YTick at 0x1d9defe4dc0>],\n",
       " [Text(0, 0, ''),\n",
       "  Text(0, 0, ''),\n",
       "  Text(0, 0, ''),\n",
       "  Text(0, 0, ''),\n",
       "  Text(0, 0, ''),\n",
       "  Text(0, 0, ''),\n",
       "  Text(0, 0, ''),\n",
       "  Text(0, 0, ''),\n",
       "  Text(0, 0, ''),\n",
       "  Text(0, 0, ''),\n",
       "  Text(0, 0, ''),\n",
       "  Text(0, 0, ''),\n",
       "  Text(0, 0, ''),\n",
       "  Text(0, 0, ''),\n",
       "  Text(0, 0, ''),\n",
       "  Text(0, 0, ''),\n",
       "  Text(0, 0, ''),\n",
       "  Text(0, 0, ''),\n",
       "  Text(0, 0, ''),\n",
       "  Text(0, 0, ''),\n",
       "  Text(0, 0, ''),\n",
       "  Text(0, 0, ''),\n",
       "  Text(0, 0, '')])"
      ]
     },
     "execution_count": 81,
     "metadata": {},
     "output_type": "execute_result"
    },
    {
     "data": {
      "image/png": "[encoded data removed]",
      "text/plain": [
       "<Figure size 1440x576 with 1 Axes>"
      ]
     },
     "metadata": {
      "needs_background": "light"
     },
     "output_type": "display_data"
    }
   ],
   "source": [
    "plt.figure(figsize=(20,8))\n",
    "sb.boxplot(data=trips,x='user_type',y='start_hour')\n",
    "plt.yticks(np.arange(1,24,1))"
   ]
  },
  {
   "cell_type": "markdown",
   "id": "1a98da9c",
   "metadata": {},
   "source": [
    "1-The median hour that the Customer and Subscriber start trip at (15 - 12 = 3 PM).\n",
    "\n",
    "2-The Q1 = 10 AM, Q3 = (17 -> 5 PM) For Customer, and for Subscriber Q1 = 9 AM, and Q3 = (17 -> 5 PM)."
   ]
  },
  {
   "cell_type": "code",
   "execution_count": 82,
   "id": "ae336625",
   "metadata": {},
   "outputs": [
    {
     "data": {
      "text/plain": [
       "<AxesSubplot:xlabel='user_type', ylabel='duration_minutes'>"
      ]
     },
     "execution_count": 82,
     "metadata": {},
     "output_type": "execute_result"
    },
    {
     "data": {
      "image/png": "[encoded data removed]",
      "text/plain": [
       "<Figure size 432x288 with 1 Axes>"
      ]
     },
     "metadata": {
      "needs_background": "light"
     },
     "output_type": "display_data"
    }
   ],
   "source": [
    "sb.barplot(data=trips,x='user_type',y='duration_minutes')"
   ]
  },
  {
   "cell_type": "markdown",
   "id": "cc5f029f",
   "metadata": {},
   "source": [
    "From the above plot we notice that the mean duration_munites for Customers is larger than Subscribers.\n",
    "\n"
   ]
  },
  {
   "cell_type": "markdown",
   "id": "bd38c9b0",
   "metadata": {},
   "source": [
    "### member_gender vs(bike_share_for_all_trips,start_day)"
   ]
  },
  {
   "cell_type": "code",
   "execution_count": 85,
   "id": "dcfa727c",
   "metadata": {},
   "outputs": [
    {
     "data": {
      "text/plain": [
       "<AxesSubplot:xlabel='member_gender', ylabel='count'>"
      ]
     },
     "execution_count": 85,
     "metadata": {},
     "output_type": "execute_result"
    },
    {
     "data": {
      "image/png": "[encoded data removed]",
      "text/plain": [
       "<Figure size 1440x360 with 2 Axes>"
      ]
     },
     "metadata": {
      "needs_background": "light"
     },
     "output_type": "display_data"
    }
   ],
   "source": [
    "plt.figure(figsize=(20,5))\n",
    "\n",
    "plt.subplot(1,2,1)\n",
    "sb.countplot(data=trips,x='member_gender',hue='bike_share_for_all_trip')\n",
    "\n",
    "plt.subplot(1,2,2)\n",
    "sb.countplot(data=trips,x='member_gender',hue='start_day')\n"
   ]
  },
  {
   "cell_type": "markdown",
   "id": "fa5e00a1",
   "metadata": {},
   "source": [
    "The most users based on gender distribution does not share bike for all trips, and use the bikes mostly in work day espeically in Thursday, and use it less in the weekends.\n",
    "\n"
   ]
  },
  {
   "cell_type": "markdown",
   "id": "840d4210",
   "metadata": {},
   "source": [
    "### member_age vs (duratin_minutes,start_day)"
   ]
  },
  {
   "cell_type": "code",
   "execution_count": 86,
   "id": "413da4c4",
   "metadata": {},
   "outputs": [
    {
     "data": {
      "image/png": "[encoded data removed]",
      "text/plain": [
       "<Figure size 432x288 with 1 Axes>"
      ]
     },
     "metadata": {
      "needs_background": "light"
     },
     "output_type": "display_data"
    }
   ],
   "source": [
    "plt.scatter(data=trips,x='member_age',y='duration_minutes',alpha=0.5)\n",
    "plt.xlabel('Age')\n",
    "plt.ylabel('Duration - minutes');"
   ]
  },
  {
   "cell_type": "markdown",
   "id": "b142f88c",
   "metadata": {},
   "source": [
    "The duration of minutes decrease when the age become older"
   ]
  },
  {
   "cell_type": "code",
   "execution_count": 87,
   "id": "6d4264e0",
   "metadata": {},
   "outputs": [
    {
     "data": {
      "text/plain": [
       "([<matplotlib.axis.XTick at 0x1d9e3c39640>,\n",
       "  <matplotlib.axis.XTick at 0x1d9e3c2d880>,\n",
       "  <matplotlib.axis.XTick at 0x1d9e3c9d1f0>,\n",
       "  <matplotlib.axis.XTick at 0x1d9e3cb8820>,\n",
       "  <matplotlib.axis.XTick at 0x1d9e3cb8d30>,\n",
       "  <matplotlib.axis.XTick at 0x1d9e3cbf280>,\n",
       "  <matplotlib.axis.XTick at 0x1d9e99909d0>,\n",
       "  <matplotlib.axis.XTick at 0x1d9e9988220>,\n",
       "  <matplotlib.axis.XTick at 0x1d9e9988730>,\n",
       "  <matplotlib.axis.XTick at 0x1d9e9988c40>,\n",
       "  <matplotlib.axis.XTick at 0x1d9e3a91a90>,\n",
       "  <matplotlib.axis.XTick at 0x1d9e3cb83a0>,\n",
       "  <matplotlib.axis.XTick at 0x1d9e9981c10>,\n",
       "  <matplotlib.axis.XTick at 0x1d9e62c4160>,\n",
       "  <matplotlib.axis.XTick at 0x1d9e62c4670>,\n",
       "  <matplotlib.axis.XTick at 0x1d9e62c4b80>,\n",
       "  <matplotlib.axis.XTick at 0x1d9e62c10d0>,\n",
       "  <matplotlib.axis.XTick at 0x1d9e62c15e0>,\n",
       "  <matplotlib.axis.XTick at 0x1d9e62c42b0>,\n",
       "  <matplotlib.axis.XTick at 0x1d9e9981d60>],\n",
       " [Text(10.0, 0, '10'),\n",
       "  Text(20.0, 0, '20'),\n",
       "  Text(30.0, 0, '30'),\n",
       "  Text(40.0, 0, '40'),\n",
       "  Text(50.0, 0, '50'),\n",
       "  Text(60.0, 0, '60'),\n",
       "  Text(70.0, 0, '70'),\n",
       "  Text(80.0, 0, '80'),\n",
       "  Text(90.0, 0, '90'),\n",
       "  Text(100.0, 0, '100'),\n",
       "  Text(0, 0, ''),\n",
       "  Text(0, 0, ''),\n",
       "  Text(0, 0, ''),\n",
       "  Text(0, 0, ''),\n",
       "  Text(0, 0, ''),\n",
       "  Text(0, 0, ''),\n",
       "  Text(0, 0, ''),\n",
       "  Text(0, 0, ''),\n",
       "  Text(0, 0, ''),\n",
       "  Text(0, 0, '')])"
      ]
     },
     "execution_count": 87,
     "metadata": {},
     "output_type": "execute_result"
    },
    {
     "data": {
      "image/png": "[encoded data removed]",
      "text/plain": [
       "<Figure size 1440x720 with 7 Axes>"
      ]
     },
     "metadata": {
      "needs_background": "light"
     },
     "output_type": "display_data"
    }
   ],
   "source": [
    "g=sb.FacetGrid(data=trips,col='start_day',col_wrap=4,height=5)\n",
    "g.map(plt.hist,'member_age',bins=age_bins)\n",
    "xticks = np.arange(trips.member_age.min()-1, trips.member_age.max() + 4, 4)\n",
    "plt.xticks(xticks)"
   ]
  },
  {
   "cell_type": "markdown",
   "id": "acf5d4f7",
   "metadata": {},
   "source": [
    "### Multivariate Exploration¶\n"
   ]
  },
  {
   "cell_type": "code",
   "execution_count": 89,
   "id": "103875ab",
   "metadata": {},
   "outputs": [
    {
     "data": {
      "image/png": "[encoded data removed]",
      "text/plain": [
       "<Figure size 432x288 with 2 Axes>"
      ]
     },
     "metadata": {
      "needs_background": "light"
     },
     "output_type": "display_data"
    }
   ],
   "source": [
    "duration_means = trips.groupby(['user_type', 'member_gender']).mean()['duration_minutes']\n",
    "duration_means = duration_means.reset_index(name = 'duration_minutes_avg')\n",
    "duration_means = duration_means.pivot(index = 'member_gender', columns = 'user_type',\n",
    "                            values = 'duration_minutes_avg')\n",
    "sb.heatmap(duration_means, annot = True, fmt = '.3f', cmap='rocket_r',\n",
    "           cbar_kws = {'label' : 'mean(duration_minutes)'});"
   ]
  },
  {
   "cell_type": "markdown",
   "id": "818e5097",
   "metadata": {},
   "source": [
    "### From the heatmap above we can notice the following:\n",
    "\n",
    "1-The mean of duration(minutes) for Customer is higher than Subscriber.\n",
    "\n",
    "2-The Customers who are gender = other their mean of duration(minutes) were the highest.\n",
    "\n",
    "3-The Subscriber who are Males their trip duration are the smallest."
   ]
  },
  {
   "cell_type": "markdown",
   "id": "b008a1dd",
   "metadata": {},
   "source": [
    "### user_type vs start_day vs duration_minutes\n"
   ]
  },
  {
   "cell_type": "code",
   "execution_count": 90,
   "id": "6c372e2f",
   "metadata": {},
   "outputs": [
    {
     "data": {
      "image/png": "[encoded data removed]",
      "text/plain": [
       "<Figure size 432x288 with 2 Axes>"
      ]
     },
     "metadata": {
      "needs_background": "light"
     },
     "output_type": "display_data"
    }
   ],
   "source": [
    "duration_means = trips.groupby(['user_type', 'start_day']).mean()['duration_minutes']\n",
    "duration_means = duration_means.reset_index(name = 'duration_minutes_avg')\n",
    "duration_means = duration_means.pivot(index = 'start_day', columns = 'user_type',\n",
    "                            values = 'duration_minutes_avg')\n",
    "sb.heatmap(duration_means, annot = True, fmt = '.3f', cmap='rocket_r',\n",
    "           cbar_kws = {'label' : 'mean(duration_minutes)'});"
   ]
  },
  {
   "cell_type": "markdown",
   "id": "e248c13d",
   "metadata": {},
   "source": [
    "\n",
    "From the heatmap above we can notice the following:\n",
    "\n",
    "1-The mean of duration(minutes) for Customer is higher than Subscriber (Again).\n",
    "\n",
    "2-The longest trip duration(minutes) on Saturday and Sunday for Customer and Subscriber, and that could explains why the number of trips in this day are the smallest.\n",
    "\n",
    "3-The shortest trip duration(minutes) on Tuesday and Thursday for Customer and Subscriber, and that could explains why the number of trips in these day are the highest."
   ]
  },
  {
   "cell_type": "code",
   "execution_count": null,
   "id": "4164e16d",
   "metadata": {},
   "outputs": [],
   "source": []
  }
 ],
 "metadata": {
  "kernelspec": {
   "display_name": "Python 3",
   "language": "python",
   "name": "python3"
  },
  "language_info": {
   "codemirror_mode": {
    "name": "ipython",
    "version": 3
   },
   "file_extension": ".py",
   "mimetype": "text/x-python",
   "name": "python",
   "nbconvert_exporter": "python",
   "pygments_lexer": "ipython3",
   "version": "3.8.8"
  }
 },
 "nbformat": 4,
 "nbformat_minor": 5
}
